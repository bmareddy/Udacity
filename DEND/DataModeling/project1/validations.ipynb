{
 "cells": [
  {
   "cell_type": "code",
   "execution_count": 1,
   "metadata": {},
   "outputs": [],
   "source": [
    "import psycopg2"
   ]
  },
  {
   "cell_type": "code",
   "execution_count": 2,
   "metadata": {},
   "outputs": [],
   "source": [
    "conn = psycopg2.connect(\"host=127.0.0.1 dbname=sparkifydb user=student password=student\")\n",
    "cur = conn.cursor()"
   ]
  },
  {
   "cell_type": "markdown",
   "metadata": {},
   "source": [
    "_Validations on the raw data to understand the data that was loaded in to the tables. Run this Notebook after etl.py has been executed_"
   ]
  },
  {
   "cell_type": "markdown",
   "metadata": {},
   "source": [
    "### Describing Songs Data set"
   ]
  },
  {
   "cell_type": "code",
   "execution_count": 5,
   "metadata": {},
   "outputs": [
    {
     "name": "stdout",
     "output_type": "stream",
     "text": [
      "(71, 71)\n"
     ]
    }
   ],
   "source": [
    "cur.execute('SELECT COUNT(1), COUNT(DISTINCT title) FROM songs')\n",
    "output = cur.fetchone()\n",
    "print(output)"
   ]
  },
  {
   "cell_type": "code",
   "execution_count": 7,
   "metadata": {},
   "outputs": [
    {
     "name": "stdout",
     "output_type": "stream",
     "text": [
      "(Decimal('29.54404'), Decimal('599.24853'), Decimal('239.7296760563380282'))\n"
     ]
    }
   ],
   "source": [
    "cur.execute('SELECT MIN(duration), MAX(duration), AVG(duration) FROM songs')\n",
    "output = cur.fetchone()\n",
    "print(output)"
   ]
  },
  {
   "cell_type": "markdown",
   "metadata": {},
   "source": [
    "##### There are a total of 71 songs with songs playing on average 4 mins. Quickest song is a half minute and longest song is 10 mins"
   ]
  },
  {
   "cell_type": "code",
   "execution_count": 9,
   "metadata": {},
   "outputs": [
    {
     "name": "stdout",
     "output_type": "stream",
     "text": [
      "(69,)\n"
     ]
    }
   ],
   "source": [
    "cur.execute('SELECT COUNT(DISTINCT artist_id) FROM songs')\n",
    "output = cur.fetchone()\n",
    "print(output)"
   ]
  },
  {
   "cell_type": "markdown",
   "metadata": {},
   "source": [
    "##### Since each song is created by one and only one artist, the 71 songs in the data are almost all created by different artists"
   ]
  },
  {
   "cell_type": "code",
   "execution_count": 11,
   "metadata": {},
   "outputs": [
    {
     "name": "stdout",
     "output_type": "stream",
     "text": [
      "(43,)\n",
      "[(1961, 1), (1964, 1), (1969, 1), (1972, 1), (1982, 1), (1984, 1), (1985, 1), (1986, 1), (1987, 1), (1992, 1), (1993, 1), (1994, 2), (1997, 2), (1999, 1), (2000, 2), (2003, 2), (2004, 4), (2005, 2), (2007, 1), (2008, 1)]\n"
     ]
    }
   ],
   "source": [
    "cur.execute('SELECT COUNT(1) FROM songs WHERE year = 0')\n",
    "output = cur.fetchone()\n",
    "print(output)\n",
    "cur.execute('SELECT year, COUNT(1) FROM songs WHERE year != 0 GROUP BY year ORDER BY year')\n",
    "output = cur.fetchall()\n",
    "print(output)"
   ]
  },
  {
   "cell_type": "markdown",
   "metadata": {},
   "source": [
    "##### The data quality in the `year` column is quite bad. About 2/3rds of songs have no valid year. Of the remaining 1/3rd songs with a valid year, they range from early 60's to late 2000's"
   ]
  },
  {
   "cell_type": "code",
   "execution_count": 28,
   "metadata": {},
   "outputs": [
    {
     "name": "stdout",
     "output_type": "stream",
     "text": [
      "(40,)\n",
      "('London, England', 2)\n"
     ]
    }
   ],
   "source": [
    "cur.execute(\"SELECT COUNT(DISTINCT location) FROM artists WHERE location != ''\")\n",
    "output = cur.fetchone()\n",
    "print(output)\n",
    "cur.execute(\"SELECT location, COUNT(1) FROM artists WHERE location != '' GROUP BY location ORDER BY 2 desc LIMIT 1\")\n",
    "output = cur.fetchone()\n",
    "print(output)"
   ]
  },
  {
   "cell_type": "markdown",
   "metadata": {},
   "source": [
    "##### Of the artists that has valid location data, all are from different cities around world except the 2 from London. Nothing interesting here"
   ]
  },
  {
   "cell_type": "markdown",
   "metadata": {},
   "source": [
    "### Describing Log data"
   ]
  },
  {
   "cell_type": "code",
   "execution_count": 29,
   "metadata": {},
   "outputs": [
    {
     "name": "stdout",
     "output_type": "stream",
     "text": [
      "(6820, 5189, 3148, 96)\n"
     ]
    }
   ],
   "source": [
    "cur.execute(\"SELECT COUNT(1), COUNT(DISTINCT song), COUNT(DISTINCT artist), COUNT(DISTINCT userId) FROM songplays_log\")\n",
    "output = cur.fetchone()\n",
    "print(output)"
   ]
  },
  {
   "cell_type": "markdown",
   "metadata": {},
   "source": [
    "#### The log data contains ~6800 plays by 100 users of 5200 different songs from 3150 distinct artists. Note that the dimension tables `songs` and `artists` contain only a small sample of the overall data"
   ]
  },
  {
   "cell_type": "code",
   "execution_count": 30,
   "metadata": {},
   "outputs": [
    {
     "name": "stdout",
     "output_type": "stream",
     "text": [
      "(\"You're The One\", 37)\n"
     ]
    }
   ],
   "source": [
    "cur.execute(\"SELECT song, COUNT(1) FROM songplays_log GROUP BY song ORDER BY 2 desc LIMIT 1;\")\n",
    "output = cur.fetchone()\n",
    "print(output)"
   ]
  },
  {
   "cell_type": "code",
   "execution_count": 38,
   "metadata": {},
   "outputs": [
    {
     "name": "stdout",
     "output_type": "stream",
     "text": [
      "(\"You're The One\", 'Dwight Yoakam')\n"
     ]
    }
   ],
   "source": [
    "cur.execute(\"SELECT DISTINCT song, artist FROM songplays_log WHERE song = \\\n",
    "                (SELECT song FROM \\\n",
    "                    (SELECT song, COUNT(1) FROM songplays_log GROUP BY song ORDER BY 2 desc LIMIT 1) m)\")\n",
    "output = cur.fetchone()\n",
    "print(output)"
   ]
  },
  {
   "cell_type": "markdown",
   "metadata": {},
   "source": [
    "#### Dwight Yoakam's You're The One is the most played song"
   ]
  },
  {
   "cell_type": "code",
   "execution_count": 41,
   "metadata": {},
   "outputs": [
    {
     "name": "stdout",
     "output_type": "stream",
     "text": [
      "[('F', 55, 4887), ('M', 41, 1933)]\n"
     ]
    }
   ],
   "source": [
    "cur.execute(\"SELECT u.gender, COUNT(DISTINCT sp.user_id), COUNT(1) \\\n",
    "                FROM songplays sp JOIN users u on sp.user_id = u.user_id \\\n",
    "                GROUP BY u.gender;\")\n",
    "output = cur.fetchall()\n",
    "print(output)"
   ]
  },
  {
   "cell_type": "markdown",
   "metadata": {},
   "source": [
    "#### Female users make up 55% of the user base and constitute a whopping 72% of plays"
   ]
  },
  {
   "cell_type": "code",
   "execution_count": 42,
   "metadata": {},
   "outputs": [
    {
     "name": "stdout",
     "output_type": "stream",
     "text": [
      "[('free', 75, 1385), ('paid', 21, 5435)]\n"
     ]
    }
   ],
   "source": [
    "cur.execute(\"SELECT u.level, COUNT(DISTINCT sp.user_id), COUNT(1) \\\n",
    "                FROM songplays sp JOIN users u on sp.user_id = u.user_id \\\n",
    "                GROUP BY u.level;\")\n",
    "output = cur.fetchall()\n",
    "print(output)"
   ]
  },
  {
   "cell_type": "markdown",
   "metadata": {},
   "source": [
    "#### Free users make up 75% of the user base but constitute only 20% of the plays. Paid users are engaged which could indicate a healthy content"
   ]
  },
  {
   "cell_type": "code",
   "execution_count": 45,
   "metadata": {},
   "outputs": [
    {
     "name": "stdout",
     "output_type": "stream",
     "text": [
      "[(0, 59, 1014), (1, 57, 1071), (2, 60, 1364), (3, 56, 1052), (4, 63, 1295), (5, 45, 628), (6, 39, 396)]\n"
     ]
    }
   ],
   "source": [
    "cur.execute(\"SELECT t.weekday, COUNT(DISTINCT sp.user_id), COUNT(1) \\\n",
    "                FROM songplays sp JOIN time t on sp.start_time = t.start_time \\\n",
    "                GROUP BY t.weekday;\")\n",
    "output = cur.fetchall()\n",
    "print(output)"
   ]
  },
  {
   "cell_type": "markdown",
   "metadata": {},
   "source": [
    "#### Our users are more engaged during the weekdays than the weekend"
   ]
  }
 ],
 "metadata": {
  "kernelspec": {
   "display_name": "Python 3",
   "language": "python",
   "name": "python3"
  },
  "language_info": {
   "codemirror_mode": {
    "name": "ipython",
    "version": 3
   },
   "file_extension": ".py",
   "mimetype": "text/x-python",
   "name": "python",
   "nbconvert_exporter": "python",
   "pygments_lexer": "ipython3",
   "version": "3.6.3"
  }
 },
 "nbformat": 4,
 "nbformat_minor": 2
}
