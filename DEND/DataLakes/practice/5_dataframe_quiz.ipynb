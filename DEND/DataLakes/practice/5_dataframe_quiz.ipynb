{
 "cells": [
  {
   "cell_type": "markdown",
   "metadata": {},
   "source": [
    "# Data Frame Coding Quiz\n",
    "\n",
    "Use this Jupyter notebook to find the answers to the quiz in the previous section. There is an answer key in the next part of the lesson."
   ]
  },
  {
   "cell_type": "code",
   "execution_count": 2,
   "metadata": {},
   "outputs": [],
   "source": [
    "from pyspark.sql import SparkSession\n",
    "\n",
    "spark = SparkSession \\\n",
    "    .builder \\\n",
    "    .appName(\"Data Frame Coding Quiz\") \\\n",
    "    .getOrCreate()"
   ]
  },
  {
   "cell_type": "code",
   "execution_count": 29,
   "metadata": {},
   "outputs": [],
   "source": [
    "log_data = spark.read.json(\"data/sparkify_log_small.json\")"
   ]
  },
  {
   "cell_type": "markdown",
   "metadata": {},
   "source": [
    "# Question 1\n",
    "\n",
    "Which page did user id \"\" (empty string) NOT visit?"
   ]
  },
  {
   "cell_type": "code",
   "execution_count": 11,
   "metadata": {},
   "outputs": [],
   "source": [
    "all_pages = log_data.select(\"page\").dropDuplicates()\n",
    "user_pages = log_data.select(\"page\").filter(log_data.userId == '').dropDuplicates()"
   ]
  },
  {
   "cell_type": "code",
   "execution_count": 15,
   "metadata": {},
   "outputs": [
    {
     "data": {
      "text/plain": [
       "[Row(page='Submit Downgrade'),\n",
       " Row(page='Downgrade'),\n",
       " Row(page='Logout'),\n",
       " Row(page='Save Settings'),\n",
       " Row(page='Settings'),\n",
       " Row(page='NextSong'),\n",
       " Row(page='Upgrade'),\n",
       " Row(page='Error'),\n",
       " Row(page='Submit Upgrade')]"
      ]
     },
     "execution_count": 15,
     "metadata": {},
     "output_type": "execute_result"
    }
   ],
   "source": [
    "result = [page for page in all_pages if page not in user_pages]\n",
    "result"
   ]
  },
  {
   "cell_type": "markdown",
   "metadata": {},
   "source": [
    "# Question 2 - Reflect\n",
    "\n",
    "What type of user does the empty string user id most likely refer to?\n"
   ]
  },
  {
   "cell_type": "code",
   "execution_count": 17,
   "metadata": {},
   "outputs": [
    {
     "data": {
      "text/plain": [
       "[Row(page='Home'), Row(page='About'), Row(page='Login'), Row(page='Help')]"
      ]
     },
     "execution_count": 17,
     "metadata": {},
     "output_type": "execute_result"
    }
   ],
   "source": [
    "user_pages"
   ]
  },
  {
   "cell_type": "markdown",
   "metadata": {},
   "source": [
    "# Question 3\n",
    "\n",
    "How many female users do we have in the data set?"
   ]
  },
  {
   "cell_type": "code",
   "execution_count": 21,
   "metadata": {},
   "outputs": [
    {
     "name": "stdout",
     "output_type": "stream",
     "text": [
      "+------+---------+\n",
      "|gender|num_users|\n",
      "+------+---------+\n",
      "|     M|      501|\n",
      "|     F|      462|\n",
      "|  null|        1|\n",
      "+------+---------+\n",
      "\n"
     ]
    }
   ],
   "source": [
    "from pyspark.sql import functions as func\n",
    "log_data.select(\"userId\",\"gender\").dropDuplicates()\\\n",
    "    .groupby(\"gender\")\\\n",
    "    .agg(func.count(\"userId\").alias(\"num_users\"))\\\n",
    "    .orderBy(func.desc(\"num_users\"))\\\n",
    "    .show()"
   ]
  },
  {
   "cell_type": "markdown",
   "metadata": {},
   "source": [
    "# Question 4\n",
    "\n",
    "How many songs were played from the most played artist?"
   ]
  },
  {
   "cell_type": "code",
   "execution_count": 23,
   "metadata": {},
   "outputs": [
    {
     "name": "stdout",
     "output_type": "stream",
     "text": [
      "+--------+---------+\n",
      "|  artist|num_songs|\n",
      "+--------+---------+\n",
      "|Coldplay|       83|\n",
      "+--------+---------+\n",
      "only showing top 1 row\n",
      "\n"
     ]
    }
   ],
   "source": [
    "log_data.select(\"artist\")\\\n",
    "    .filter(log_data.page == 'NextSong')\\\n",
    "    .groupby(\"artist\")\\\n",
    "    .agg(func.count(\"artist\").alias(\"num_songs\"))\\\n",
    "    .orderBy(func.desc(\"num_songs\"))\\\n",
    "    .show(1)"
   ]
  },
  {
   "cell_type": "markdown",
   "metadata": {},
   "source": [
    "# Question 5 (challenge)\n",
    "\n",
    "How many songs do users listen to on average between visiting our home page? Please round your answer to the closest integer.\n",
    "\n"
   ]
  },
  {
   "cell_type": "code",
   "execution_count": 34,
   "metadata": {},
   "outputs": [],
   "source": [
    "from pyspark.sql import types\n",
    "flag_homepage_visit = func.udf(lambda x: 1 if x=='Home' else 0, types.IntegerType())\n",
    "log_data = log_data.withColumn(\"homepage_visit\", flag_homepage_visit(\"page\"))"
   ]
  },
  {
   "cell_type": "code",
   "execution_count": 37,
   "metadata": {},
   "outputs": [
    {
     "name": "stdout",
     "output_type": "stream",
     "text": [
      "root\n",
      " |-- artist: string (nullable = true)\n",
      " |-- auth: string (nullable = true)\n",
      " |-- firstName: string (nullable = true)\n",
      " |-- gender: string (nullable = true)\n",
      " |-- itemInSession: long (nullable = true)\n",
      " |-- lastName: string (nullable = true)\n",
      " |-- length: double (nullable = true)\n",
      " |-- level: string (nullable = true)\n",
      " |-- location: string (nullable = true)\n",
      " |-- method: string (nullable = true)\n",
      " |-- page: string (nullable = true)\n",
      " |-- registration: long (nullable = true)\n",
      " |-- sessionId: long (nullable = true)\n",
      " |-- song: string (nullable = true)\n",
      " |-- status: long (nullable = true)\n",
      " |-- ts: long (nullable = true)\n",
      " |-- userAgent: string (nullable = true)\n",
      " |-- userId: string (nullable = true)\n",
      " |-- homepage_visit: integer (nullable = true)\n",
      "\n"
     ]
    }
   ],
   "source": [
    "log_data.printSchema()"
   ]
  },
  {
   "cell_type": "code",
   "execution_count": 40,
   "metadata": {},
   "outputs": [],
   "source": [
    "from pyspark.sql import Window\n",
    "windowval = Window.partitionBy(\"userId\").orderBy(\"ts\").rangeBetween(Window.unboundedPreceding, 0)\n",
    "log_data = log_data.withColumn(\"phase\", func.sum(\"homepage_visit\").over(windowval))"
   ]
  },
  {
   "cell_type": "code",
   "execution_count": 41,
   "metadata": {},
   "outputs": [
    {
     "name": "stdout",
     "output_type": "stream",
     "text": [
      "root\n",
      " |-- artist: string (nullable = true)\n",
      " |-- auth: string (nullable = true)\n",
      " |-- firstName: string (nullable = true)\n",
      " |-- gender: string (nullable = true)\n",
      " |-- itemInSession: long (nullable = true)\n",
      " |-- lastName: string (nullable = true)\n",
      " |-- length: double (nullable = true)\n",
      " |-- level: string (nullable = true)\n",
      " |-- location: string (nullable = true)\n",
      " |-- method: string (nullable = true)\n",
      " |-- page: string (nullable = true)\n",
      " |-- registration: long (nullable = true)\n",
      " |-- sessionId: long (nullable = true)\n",
      " |-- song: string (nullable = true)\n",
      " |-- status: long (nullable = true)\n",
      " |-- ts: long (nullable = true)\n",
      " |-- userAgent: string (nullable = true)\n",
      " |-- userId: string (nullable = true)\n",
      " |-- homepage_visit: integer (nullable = true)\n",
      " |-- phase: long (nullable = true)\n",
      "\n"
     ]
    }
   ],
   "source": [
    "log_data.printSchema()"
   ]
  },
  {
   "cell_type": "code",
   "execution_count": 45,
   "metadata": {},
   "outputs": [
    {
     "name": "stdout",
     "output_type": "stream",
     "text": [
      "+------+----------+\n",
      "|userId|num_phases|\n",
      "+------+----------+\n",
      "|  1647|        10|\n",
      "|    58|         9|\n",
      "|  2481|         8|\n",
      "|  1290|         8|\n",
      "|  1232|         8|\n",
      "|  1959|         8|\n",
      "|  1950|         7|\n",
      "|  1865|         7|\n",
      "|  1035|         7|\n",
      "|   523|         6|\n",
      "+------+----------+\n",
      "only showing top 10 rows\n",
      "\n"
     ]
    }
   ],
   "source": [
    "log_data.select(\"userId\",\"phase\").filter(\"userId != ''\")\\\n",
    "    .dropDuplicates().groupby(\"userId\").agg(func.count(\"*\").alias(\"num_phases\"))\\\n",
    "    .orderBy(func.desc(\"num_phases\"))\\\n",
    "    .show(10)"
   ]
  },
  {
   "cell_type": "code",
   "execution_count": 61,
   "metadata": {},
   "outputs": [],
   "source": [
    "song_flag = func.udf(lambda x: 1 if x == 'NextSong' else 0, types.IntegerType())\n",
    "log_data = log_data.withColumn(\"song_flag\", song_flag(\"page\"))\n",
    "songs_by_user_phase = log_data.select(\"userId\",\"page\",\"phase\",\"song_flag\")\\\n",
    "    .groupby(\"userId\",\"phase\")\\\n",
    "    .agg(func.sum(\"song_flag\").alias(\"num_songs\"),\\\n",
    "         func.max(\"phase\").over(Window.partitionBy(\"userId\")).alias(\"max_phase\"))"
   ]
  },
  {
   "cell_type": "code",
   "execution_count": 62,
   "metadata": {},
   "outputs": [
    {
     "name": "stdout",
     "output_type": "stream",
     "text": [
      "+------+-----+---------+---------+\n",
      "|userId|phase|num_songs|max_phase|\n",
      "+------+-----+---------+---------+\n",
      "|   523|    4|       17|        6|\n",
      "|   523|    3|        0|        6|\n",
      "|   523|    6|       16|        6|\n",
      "|   523|    2|        8|        6|\n",
      "|   523|    5|       27|        6|\n",
      "|   523|    1|       22|        6|\n",
      "+------+-----+---------+---------+\n",
      "\n"
     ]
    }
   ],
   "source": [
    "songs_by_user_phase.filter(\"userId == 523\").show(10)"
   ]
  },
  {
   "cell_type": "code",
   "execution_count": 63,
   "metadata": {},
   "outputs": [
    {
     "name": "stdout",
     "output_type": "stream",
     "text": [
      "+-----------------+\n",
      "|   avg(num_songs)|\n",
      "+-----------------+\n",
      "|6.263862332695985|\n",
      "+-----------------+\n",
      "\n"
     ]
    }
   ],
   "source": [
    "songs_by_user_phase.filter(\"phase > 0 and phase < max_phase\").agg(func.mean(\"num_songs\")).show()"
   ]
  },
  {
   "cell_type": "code",
   "execution_count": 65,
   "metadata": {},
   "outputs": [
    {
     "name": "stdout",
     "output_type": "stream",
     "text": [
      "+---------------+\n",
      "| avg(num_songs)|\n",
      "+---------------+\n",
      "|5.0557238037553|\n",
      "+---------------+\n",
      "\n"
     ]
    }
   ],
   "source": [
    "songs_by_user_phase.agg(func.mean(\"num_songs\")).show()"
   ]
  },
  {
   "cell_type": "code",
   "execution_count": 76,
   "metadata": {},
   "outputs": [],
   "source": [
    "windowval2 = Window.partitionBy(\"userId\").orderBy(func.desc(\"ts\")).rangeBetween(Window.unboundedPreceding, 0)\n",
    "log_data2 = log_data.filter((log_data.page == 'NextSong') | (log_data.page == 'Home'))\\\n",
    "            .select(\"userId\",\"page\",\"ts\",\"homepage_visit\",\"song_flag\")\\\n",
    "            .withColumn(\"phase\", func.sum(\"homepage_visit\").over(windowval2))\n",
    "songs_by_user_phase2 = log_data2.select(\"userId\",\"page\",\"phase\",\"song_flag\")\\\n",
    "    .groupby(\"userId\",\"phase\")\\\n",
    "    .agg(func.sum(\"song_flag\").alias(\"num_songs\"),\\\n",
    "         func.max(\"phase\").over(Window.partitionBy(\"userId\")).alias(\"max_phase\"))"
   ]
  },
  {
   "cell_type": "code",
   "execution_count": 77,
   "metadata": {},
   "outputs": [
    {
     "name": "stdout",
     "output_type": "stream",
     "text": [
      "+------+-----+---------+---------+\n",
      "|userId|phase|num_songs|max_phase|\n",
      "+------+-----+---------+---------+\n",
      "|   523|    0|       16|        6|\n",
      "|   523|    1|       27|        6|\n",
      "|   523|    2|       17|        6|\n",
      "|   523|    3|        0|        6|\n",
      "|   523|    4|        8|        6|\n",
      "|   523|    5|       22|        6|\n",
      "|   523|    6|        0|        6|\n",
      "+------+-----+---------+---------+\n",
      "\n"
     ]
    }
   ],
   "source": [
    "songs_by_user_phase2.filter(\"userId == 523\").orderBy(\"phase\").show()"
   ]
  },
  {
   "cell_type": "code",
   "execution_count": 82,
   "metadata": {},
   "outputs": [
    {
     "name": "stdout",
     "output_type": "stream",
     "text": [
      "+------+-----+---------+---------+\n",
      "|userId|phase|num_songs|max_phase|\n",
      "+------+-----+---------+---------+\n",
      "|      |    5|        0|      187|\n",
      "|      |    3|        0|      187|\n",
      "|      |    4|        0|      187|\n",
      "|      |    1|        0|      187|\n",
      "|      |    2|        0|      187|\n",
      "+------+-----+---------+---------+\n",
      "only showing top 5 rows\n",
      "\n"
     ]
    }
   ],
   "source": [
    "songs_by_user_phase2.orderBy(\"userId\").show(5)"
   ]
  },
  {
   "cell_type": "code",
   "execution_count": 83,
   "metadata": {},
   "outputs": [
    {
     "name": "stdout",
     "output_type": "stream",
     "text": [
      "+-----------------+\n",
      "|   avg(num_songs)|\n",
      "+-----------------+\n",
      "|6.898347107438017|\n",
      "+-----------------+\n",
      "\n"
     ]
    }
   ],
   "source": [
    "songs_by_user_phase2.filter(\"num_songs > 0\").agg(func.mean(\"num_songs\")).show() #groupby(\"userId\").count().orderBy(\"userId\").show(10)"
   ]
  }
 ],
 "metadata": {
  "kernelspec": {
   "display_name": "Python 3",
   "language": "python",
   "name": "python3"
  },
  "language_info": {
   "codemirror_mode": {
    "name": "ipython",
    "version": 3
   },
   "file_extension": ".py",
   "mimetype": "text/x-python",
   "name": "python",
   "nbconvert_exporter": "python",
   "pygments_lexer": "ipython3",
   "version": "3.7.3"
  }
 },
 "nbformat": 4,
 "nbformat_minor": 2
}
